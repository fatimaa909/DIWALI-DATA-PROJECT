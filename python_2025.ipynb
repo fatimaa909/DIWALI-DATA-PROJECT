{
  "nbformat": 4,
  "nbformat_minor": 0,
  "metadata": {
    "colab": {
      "provenance": [],
      "authorship_tag": "ABX9TyO/Xi7OUh9pm8LDYJDlt6A1",
      "include_colab_link": true
    },
    "kernelspec": {
      "name": "python3",
      "display_name": "Python 3"
    },
    "language_info": {
      "name": "python"
    }
  },
  "cells": [
    {
      "cell_type": "markdown",
      "metadata": {
        "id": "view-in-github",
        "colab_type": "text"
      },
      "source": [
        "<a href=\"https://colab.research.google.com/github/fatimaa909/DIWALI-DATA-PROJECT/blob/main/python_2025.ipynb\" target=\"_parent\"><img src=\"https://colab.research.google.com/assets/colab-badge.svg\" alt=\"Open In Colab\"/></a>"
      ]
    },
    {
      "cell_type": "code",
      "execution_count": 1,
      "metadata": {
        "colab": {
          "base_uri": "https://localhost:8080/"
        },
        "id": "yBXpJpFK_8Le",
        "outputId": "584d7155-c1d2-4827-d73d-b5617866e945"
      },
      "outputs": [
        {
          "output_type": "stream",
          "name": "stdout",
          "text": [
            "5\n",
            "6\n"
          ]
        }
      ],
      "source": [
        "#assigning a variable\n",
        "\n",
        "x = 5\n",
        "y = 6\n",
        "print(x)\n",
        "print(y)"
      ]
    },
    {
      "cell_type": "code",
      "source": [
        "#changing the variable after they have been set\n",
        "x = 5\n",
        "x = \"Hayat\"\n",
        "print(x)"
      ],
      "metadata": {
        "colab": {
          "base_uri": "https://localhost:8080/"
        },
        "id": "56rDAajQABaF",
        "outputId": "45cb7893-975a-4aaf-e637-0bbfe0b76504"
      },
      "execution_count": 2,
      "outputs": [
        {
          "output_type": "stream",
          "name": "stdout",
          "text": [
            "Hayat\n"
          ]
        }
      ]
    },
    {
      "cell_type": "code",
      "source": [
        "# Casting\n",
        "\n",
        "x = str(1)\n",
        "y = int(5)\n",
        "z = float(9)\n",
        "print(x,y,z)"
      ],
      "metadata": {
        "colab": {
          "base_uri": "https://localhost:8080/"
        },
        "id": "5BmmyoqBABpV",
        "outputId": "1ba7130d-cd8a-4ccc-c49b-a1dac4767eac"
      },
      "execution_count": 3,
      "outputs": [
        {
          "output_type": "stream",
          "name": "stdout",
          "text": [
            "1 5 9.0\n"
          ]
        }
      ]
    },
    {
      "cell_type": "code",
      "source": [
        "# type() Function\n",
        "x = 1\n",
        "y = \"Hayat\"\n",
        "z = 5.9\n",
        "print(type(x))\n",
        "print(type(y))\n",
        "print(type(z))"
      ],
      "metadata": {
        "colab": {
          "base_uri": "https://localhost:8080/"
        },
        "id": "QqJFNeU5ABr7",
        "outputId": "c6780295-219d-4c7a-b753-c22a9ac98617"
      },
      "execution_count": 6,
      "outputs": [
        {
          "output_type": "stream",
          "name": "stdout",
          "text": [
            "<class 'int'>\n",
            "<class 'str'>\n",
            "<class 'float'>\n"
          ]
        }
      ]
    },
    {
      "cell_type": "code",
      "source": [
        "#Variables are Case Sensitive\n",
        "a =  1\n",
        "A = 'abc'\n",
        "print(a)\n",
        "print(A)\n",
        "\n",
        "# A will not overwrite a"
      ],
      "metadata": {
        "colab": {
          "base_uri": "https://localhost:8080/"
        },
        "id": "vK7wiO4OABua",
        "outputId": "18de83a5-671f-46a2-e164-0e48eca7eb5b"
      },
      "execution_count": 9,
      "outputs": [
        {
          "output_type": "stream",
          "name": "stdout",
          "text": [
            "1\n",
            "abc\n"
          ]
        }
      ]
    },
    {
      "cell_type": "code",
      "source": [
        "# Legal variable names\n",
        "\n",
        "myvar = 1\n",
        "my_var = 2\n",
        "MYVAR = 3\n",
        "_myvar = 4\n",
        "MyVar = 6\n",
        "myvar2 = 7\n",
        "\n",
        "# illegal variable name\n",
        "2myvar = 1\n",
        "my-var = 6\n",
        "my var = 7"
      ],
      "metadata": {
        "id": "1_DYHstmABxQ"
      },
      "execution_count": 10,
      "outputs": []
    },
    {
      "cell_type": "code",
      "source": [
        "# Many values to multiple variables\n",
        "\n",
        "x , y , z = 'one','two','three'\n",
        "#print(x,y,z)\n",
        "print(x)\n",
        "print(y)\n",
        "print(z)"
      ],
      "metadata": {
        "colab": {
          "base_uri": "https://localhost:8080/"
        },
        "id": "HsQ3rx-OABz-",
        "outputId": "808a759a-1a97-478a-a7a4-968bedf2449c"
      },
      "execution_count": 12,
      "outputs": [
        {
          "output_type": "stream",
          "name": "stdout",
          "text": [
            "one\n",
            "two\n",
            "three\n"
          ]
        }
      ]
    },
    {
      "cell_type": "code",
      "source": [
        "# One value to multiple variables\n",
        "a = b = c = 'Hayat'\n",
        "print(a , b , c)"
      ],
      "metadata": {
        "colab": {
          "base_uri": "https://localhost:8080/"
        },
        "id": "R96qy3ZAAB2m",
        "outputId": "fc49df4e-7319-4720-8d6b-a5580c813f63"
      },
      "execution_count": 13,
      "outputs": [
        {
          "output_type": "stream",
          "name": "stdout",
          "text": [
            "Hayat Hayat Hayat\n"
          ]
        }
      ]
    },
    {
      "cell_type": "code",
      "source": [
        "# Unpack A Collection\n",
        "fruits = ['Apple','banana','orange']\n",
        "x , y , z = fruits\n",
        "print(x)\n",
        "print(y)\n",
        "print(z)"
      ],
      "metadata": {
        "colab": {
          "base_uri": "https://localhost:8080/"
        },
        "id": "G_jfir9sAB5F",
        "outputId": "fd69ccc4-fd54-425c-dbc0-3402710ad75f"
      },
      "execution_count": 14,
      "outputs": [
        {
          "output_type": "stream",
          "name": "stdout",
          "text": [
            "Apple\n",
            "banana\n",
            "orange\n"
          ]
        }
      ]
    },
    {
      "cell_type": "code",
      "source": [
        "# Creating a Global Variable\n",
        "\n",
        "x = 'Hayat'\n",
        "\n",
        "def myfunc():\n",
        "  print(\"I Love You \" + x)\n",
        "\n",
        "myfunc()"
      ],
      "metadata": {
        "colab": {
          "base_uri": "https://localhost:8080/"
        },
        "id": "XNiLk7EdAB77",
        "outputId": "45f4baae-3a62-44db-a5b2-9f73ade0886c"
      },
      "execution_count": 17,
      "outputs": [
        {
          "output_type": "stream",
          "name": "stdout",
          "text": [
            "I Love You Hayat\n"
          ]
        }
      ]
    },
    {
      "cell_type": "code",
      "source": [
        "# practice\n",
        "\n",
        "x = 'Awesome'\n",
        "\n",
        "def myfunc():\n",
        "  print(\"Hayat is \" + x)\n",
        "\n",
        "myfunc()"
      ],
      "metadata": {
        "colab": {
          "base_uri": "https://localhost:8080/"
        },
        "id": "5zaME2qzAB-c",
        "outputId": "12fb750f-b594-4126-97ca-cd7a42a44af5"
      },
      "execution_count": 18,
      "outputs": [
        {
          "output_type": "stream",
          "name": "stdout",
          "text": [
            "Hayat is Awesome\n"
          ]
        }
      ]
    },
    {
      "cell_type": "code",
      "source": [
        "# Creating  a variable inside a function, with the same name as the global variable\n",
        "\n",
        "x = 'Hayat'\n",
        "\n",
        "def myfunc():\n",
        "  x = 'Fatima'\n",
        "  print(\"My name is \" + x)\n",
        "\n",
        "myfunc()\n",
        "\n",
        "print(\"My name is \" + x)\n",
        "\n",
        "#If you create a variable with the same name inside a function, this variable will be local, and can only be used inside the function. The global variable with the same name will remain as it was, global and with the original value.\n"
      ],
      "metadata": {
        "colab": {
          "base_uri": "https://localhost:8080/"
        },
        "id": "zwVRY1yjACBC",
        "outputId": "530eb6d5-4ad1-4d11-9254-7ac8b90780da"
      },
      "execution_count": 20,
      "outputs": [
        {
          "output_type": "stream",
          "name": "stdout",
          "text": [
            "My name is Fatima\n",
            "My name is Hayat\n"
          ]
        }
      ]
    },
    {
      "cell_type": "code",
      "source": [
        "# create a global variable inside a function, you can use the global keyword.\n",
        "\n",
        "def myfunc():\n",
        "  global y\n",
        "  y = 'You'\n",
        "\n",
        "\n",
        "myfunc()\n",
        "\n",
        "print(\"my name is \" + y)\n",
        "\n"
      ],
      "metadata": {
        "colab": {
          "base_uri": "https://localhost:8080/"
        },
        "id": "hnwBNiQOACDp",
        "outputId": "4d176cc7-2dd3-431e-8a33-9fd1e39f0a7e"
      },
      "execution_count": 28,
      "outputs": [
        {
          "output_type": "stream",
          "name": "stdout",
          "text": [
            "my name is You\n"
          ]
        }
      ]
    },
    {
      "cell_type": "code",
      "source": [
        "#change the value of a global variable inside a function, refer to the variable by using the global keyword\n",
        "\n",
        "x = \"YOU\"\n",
        "\n",
        "def myfunc():\n",
        "  global x\n",
        "  x = \"Hayat\"\n",
        "\n",
        "myfunc()\n",
        "print(\"hey \" + x)"
      ],
      "metadata": {
        "colab": {
          "base_uri": "https://localhost:8080/"
        },
        "id": "YD8iKozPACGS",
        "outputId": "d9fbedad-c5cd-4c64-9916-fd42f386ee13"
      },
      "execution_count": 30,
      "outputs": [
        {
          "output_type": "stream",
          "name": "stdout",
          "text": [
            "hey Hayat\n"
          ]
        }
      ]
    },
    {
      "cell_type": "code",
      "source": [
        "#Data Types : Built in DATA TYPES"
      ],
      "metadata": {
        "id": "CLDKVtVWACI5"
      },
      "execution_count": null,
      "outputs": []
    },
    {
      "cell_type": "code",
      "source": [
        "# 1 : Text type - 'string'\n",
        "x = \"HAYAT\"\n",
        "print(type(x))"
      ],
      "metadata": {
        "colab": {
          "base_uri": "https://localhost:8080/"
        },
        "id": "1zfCBQHVACLg",
        "outputId": "a4a3fce3-e669-47bf-e716-567bc853d86f"
      },
      "execution_count": 1,
      "outputs": [
        {
          "output_type": "stream",
          "name": "stdout",
          "text": [
            "<class 'str'>\n"
          ]
        }
      ]
    },
    {
      "cell_type": "code",
      "source": [
        "# 2 Numeric type : int , float , complex\n",
        "x = 12\n",
        "y = 2.3\n",
        "z = 12j\n",
        "print(type(x))\n",
        "print(type(y))\n",
        "print(type(z))"
      ],
      "metadata": {
        "colab": {
          "base_uri": "https://localhost:8080/"
        },
        "id": "l_yIbR9sACN5",
        "outputId": "e23c51e2-828e-43ae-9d34-7a3e5ae14830"
      },
      "execution_count": 3,
      "outputs": [
        {
          "output_type": "stream",
          "name": "stdout",
          "text": [
            "<class 'int'>\n",
            "<class 'float'>\n",
            "<class 'complex'>\n"
          ]
        }
      ]
    },
    {
      "cell_type": "code",
      "source": [
        "# Sequence Type : list , tuple , range\n",
        "\n",
        "x = [\"aa\",\"bb\",\"cc\"]\n",
        "y = (\"as\",\"bv\",\"df\")\n",
        "z = range(7)\n",
        "print(type(x))\n",
        "print(type(y))\n",
        "print(type(z))"
      ],
      "metadata": {
        "colab": {
          "base_uri": "https://localhost:8080/"
        },
        "id": "2Qjlv8O3ACQg",
        "outputId": "9f43f473-9122-4245-fbd8-78aebc46866e"
      },
      "execution_count": 4,
      "outputs": [
        {
          "output_type": "stream",
          "name": "stdout",
          "text": [
            "<class 'list'>\n",
            "<class 'tuple'>\n",
            "<class 'range'>\n"
          ]
        }
      ]
    },
    {
      "cell_type": "code",
      "source": [
        "#Mapping : Dictionary (dict)\n",
        "x = {\"name\":\"hayat\", \"Age\":24}\n",
        "print(type(x))"
      ],
      "metadata": {
        "colab": {
          "base_uri": "https://localhost:8080/"
        },
        "id": "4s0z0otKACTH",
        "outputId": "47964cc5-2f33-4a6f-fb33-2e46a89ab0d4"
      },
      "execution_count": 5,
      "outputs": [
        {
          "output_type": "stream",
          "name": "stdout",
          "text": [
            "<class 'dict'>\n"
          ]
        }
      ]
    },
    {
      "cell_type": "code",
      "source": [
        "#Set : set , frozenset\n",
        "x = {\"a\",\"b\",\"c\"}\n",
        "print(type(x))\n",
        "\n",
        "y = frozenset({\"aa\",\"bb\",\"cc\"})\n",
        "print(type(y))"
      ],
      "metadata": {
        "colab": {
          "base_uri": "https://localhost:8080/"
        },
        "id": "QJrQdfsyACWL",
        "outputId": "92ca525e-163e-4b95-ac36-d2e06247dc6a"
      },
      "execution_count": 7,
      "outputs": [
        {
          "output_type": "stream",
          "name": "stdout",
          "text": [
            "<class 'set'>\n",
            "<class 'frozenset'>\n"
          ]
        }
      ]
    },
    {
      "cell_type": "code",
      "source": [
        "#boolean : bool (true/false)\n",
        "x = False\n",
        "print(type(x))"
      ],
      "metadata": {
        "colab": {
          "base_uri": "https://localhost:8080/"
        },
        "id": "62CV3UGPACYq",
        "outputId": "a6069810-310d-4c05-9ff4-45b41e78e366"
      },
      "execution_count": 8,
      "outputs": [
        {
          "output_type": "stream",
          "name": "stdout",
          "text": [
            "<class 'bool'>\n"
          ]
        }
      ]
    },
    {
      "cell_type": "code",
      "source": [],
      "metadata": {
        "id": "gjFUp03pACd5"
      },
      "execution_count": null,
      "outputs": []
    },
    {
      "cell_type": "code",
      "source": [],
      "metadata": {
        "id": "fx8BPB7AAChX"
      },
      "execution_count": null,
      "outputs": []
    }
  ]
}